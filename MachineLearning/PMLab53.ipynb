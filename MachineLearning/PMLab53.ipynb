{
  "nbformat": 4,
  "nbformat_minor": 0,
  "metadata": {
    "colab": {
      "name": "SVM.ipynb",
      "private_outputs": true,
      "provenance": []
    },
    "kernelspec": {
      "name": "python3",
      "display_name": "Python 3"
    },
    "language_info": {
      "name": "python"
    },
    "accelerator": "GPU"
  },
  "cells": [
    {
      "cell_type": "markdown",
      "source": [
        "\n",
        "Import packages\n",
        "\n",
        "\n"
      ],
      "metadata": {
        "id": "C6gAAfgw3LKA"
      }
    },
    {
      "cell_type": "code",
      "execution_count": null,
      "metadata": {
        "id": "UbxFevbY06QT"
      },
      "outputs": [],
      "source": [
        "import numpy as np\n",
        "import matplotlib.pyplot as plt\n",
        "from sklearn import svm"
      ]
    },
    {
      "cell_type": "markdown",
      "source": [
        "Creating Datapoints"
      ],
      "metadata": {
        "id": "kbdWh5tn3EOf"
      }
    },
    {
      "cell_type": "code",
      "source": [
        "# we create 40 separable points\n",
        "np.random.seed(0)\n",
        "X = np.r_[np.random.randn(20, 2) - [2, 2], np.random.randn(20, 2) + [2, 2]]\n",
        "Y = [-1] * 20 + [1] * 20\n",
        "\n",
        "a = np.array([1,1])\n",
        "X_new = np.vstack((X, a))\n",
        "Y_new = [-1] * 20 + [1] * 20 + [-1]\n",
        "\n",
        "a = np.array([2,2])\n",
        "X_new2 = np.vstack((X, a))\n",
        "Y_new2 = [-1] * 20 + [1] * 20 + [-1]"
      ],
      "metadata": {
        "id": "rBKZBak21MWh"
      },
      "execution_count": null,
      "outputs": []
    },
    {
      "cell_type": "markdown",
      "source": [
        "Visualizing the Three Datasets "
      ],
      "metadata": {
        "id": "Ma1ZBUWp3YQu"
      }
    },
    {
      "cell_type": "code",
      "source": [
        "f, (ax1, ax2, ax3) = plt.subplots(1, 3, figsize=(12, 4),sharey=True)\n",
        "\n",
        "ax1.scatter(X[:, 0], X[:, 1], c=Y, zorder=10, cmap='RdYlGn',\n",
        "                edgecolors='k')\n",
        "ax1.set_title('Linear Separable')\n",
        "\n",
        "ax2.scatter(X_new[:, 0], X_new[:, 1], c=Y_new, zorder=10, cmap='RdYlGn',\n",
        "                edgecolors='k')\n",
        "ax2.scatter(1, 1, s=150, facecolors='none', zorder=10, \n",
        "            edgecolors='r')\n",
        "\n",
        "ax2.set_title('Linear Not Separable 1')\n",
        "\n",
        "ax3.scatter(X_new2[:, 0], X_new2[:, 1], c=Y_new2, zorder=10, cmap='RdYlGn',\n",
        "                edgecolors='k')\n",
        "ax3.scatter(2, 2, s=150, facecolors='none', zorder=10, \n",
        "            edgecolors='r')\n",
        "\n",
        "ax3.set_title('Linear Not Separable 2')"
      ],
      "metadata": {
        "id": "T1wGWpRX1RfH"
      },
      "execution_count": null,
      "outputs": []
    },
    {
      "cell_type": "markdown",
      "source": [
        "Fitting SVM  hyperplane to dataset (Linear Not Separable 1) and (Linear Not Separable 2) to classify the misclassified points"
      ],
      "metadata": {
        "id": "LYY6SnXY6Rt6"
      }
    },
    {
      "cell_type": "code",
      "source": [
        "# Two types of misclassfication\n",
        "f, (ax1, ax2) = plt.subplots(1, 2, figsize=(12, 4),sharey=True)\n",
        "\n",
        "# fit svm\n",
        "clf = svm.SVC(kernel='linear', C=1)\n",
        "clf.fit(X_new, Y_new)\n",
        "\n",
        "# get the separating hyperplane\n",
        "w = clf.coef_[0]\n",
        "a = -w[0] / w[1]\n",
        "xx = np.linspace(-5, 5)\n",
        "yy = a * xx - (clf.intercept_[0]) / w[1]\n",
        "\n",
        "# get margin\n",
        "margin = 1 / np.sqrt(np.sum(clf.coef_ ** 2))\n",
        "yy_down = yy - np.sqrt(1 + a ** 2) * margin\n",
        "yy_up = yy + np.sqrt(1 + a ** 2) * margin\n",
        "\n",
        "# plot dot\n",
        "ax1.scatter(X_new[:, 0], X_new[:, 1], c=Y_new, zorder=10, cmap='RdYlGn',\n",
        "                edgecolors='k')\n",
        "# plot decision boundary\n",
        "ax1.plot(xx, yy, 'k-', label = 'decision boundary')\n",
        "# plot margin\n",
        "ax1.plot(xx, yy_down, 'k--')\n",
        "ax1.plot(xx, yy_up, 'k--')\n",
        "# plot support vector\n",
        "ax1.scatter(clf.support_vectors_[:, 0], clf.support_vectors_[:, 1], s=100,\n",
        "                facecolors='none', zorder=10, edgecolors='k',label = 'support vector')\n",
        "ax1.set_title('Linear Not Separable 1')\n",
        "\n",
        "ax1.legend()\n",
        "\n",
        "# fit svm\n",
        "clf2 = svm.SVC(kernel='linear', C=1)\n",
        "clf2.fit(X_new2, Y_new2)\n",
        "\n",
        "# get the separating hyperplane\n",
        "w = clf2.coef_[0]\n",
        "a = -w[0] / w[1]\n",
        "xx = np.linspace(-5, 5)\n",
        "yy = a * xx - (clf2.intercept_[0]) / w[1]\n",
        "\n",
        "# get margin\n",
        "margin = 1 / np.sqrt(np.sum(clf2.coef_ ** 2))\n",
        "yy_down = yy - np.sqrt(1 + a ** 2) * margin\n",
        "yy_up = yy + np.sqrt(1 + a ** 2) * margin\n",
        "\n",
        "# plot dot\n",
        "ax2.scatter(X_new2[:, 0], X_new2[:, 1], c=Y_new, zorder=10, cmap='RdYlGn',\n",
        "                edgecolors='k')\n",
        "# plot decision boundary\n",
        "ax2.plot(xx, yy, 'k-', label = 'decision boundary')\n",
        "# plot margin\n",
        "ax2.plot(xx, yy_down, 'k--')\n",
        "ax2.plot(xx, yy_up, 'k--')\n",
        "# plot support vector\n",
        "ax2.scatter(clf2.support_vectors_[:, 0], clf2.support_vectors_[:, 1], s=100,\n",
        "                facecolors='none', zorder=10, edgecolors='k',label = 'support vector')\n",
        "\n",
        "ax2.set_title('Linear Not Separable 2')\n",
        "\n",
        "ax2.legend()\n"
      ],
      "metadata": {
        "id": "LTA_eeM81bmj"
      },
      "execution_count": null,
      "outputs": []
    },
    {
      "cell_type": "markdown",
      "source": [
        "Using different values of hyperparameter C to classify the misclasified point in dataset (Linear Not Separable 1)"
      ],
      "metadata": {
        "id": "ftNiIeKr6zh5"
      }
    },
    {
      "cell_type": "code",
      "source": [
        "# Illustrate Degree of tolerance \n",
        "# penalty term - C in linear SVM\n",
        "f, (ax1, ax2) = plt.subplots(1, 2, figsize=(12, 4),sharey=True)\n",
        "\n",
        "# fit svm\n",
        "clf = svm.SVC(kernel='linear', C=1)\n",
        "clf.fit(X_new, Y_new)\n",
        "\n",
        "# get the separating hyperplane\n",
        "w = clf.coef_[0]\n",
        "a = -w[0] / w[1]\n",
        "xx = np.linspace(-5, 5)\n",
        "yy = a * xx - (clf.intercept_[0]) / w[1]\n",
        "\n",
        "# get margin\n",
        "margin = 1 / np.sqrt(np.sum(clf.coef_ ** 2))\n",
        "yy_down = yy - np.sqrt(1 + a ** 2) * margin\n",
        "yy_up = yy + np.sqrt(1 + a ** 2) * margin\n",
        "\n",
        "# plot dot\n",
        "ax1.scatter(X_new[:, 0], X_new[:, 1], c=Y_new, zorder=10, cmap='RdYlGn',\n",
        "                edgecolors='k')\n",
        "# plot decision boundary\n",
        "ax1.plot(xx, yy, 'k-', label = 'decision boundary')\n",
        "# plot margin\n",
        "ax1.plot(xx, yy_down, 'k--')\n",
        "ax1.plot(xx, yy_up, 'k--')\n",
        "# plot support vector\n",
        "ax1.scatter(clf.support_vectors_[:, 0], clf.support_vectors_[:, 1], s=100,\n",
        "                facecolors='none', zorder=10, edgecolors='k',label = 'support vector')\n",
        "ax1.set_title('C = 1, for Linear Not Separable 1')\n",
        "\n",
        "ax1.legend()\n",
        "\n",
        "# fit svm\n",
        "clf2 = svm.SVC(kernel='linear', C=0.01)\n",
        "clf2.fit(X_new, Y_new)\n",
        "\n",
        "# get the separating hyperplane\n",
        "w = clf2.coef_[0]\n",
        "a = -w[0] / w[1]\n",
        "xx = np.linspace(-5, 5)\n",
        "yy = a * xx - (clf2.intercept_[0]) / w[1]\n",
        "\n",
        "# get margin\n",
        "margin = 1 / np.sqrt(np.sum(clf2.coef_ ** 2))\n",
        "yy_down = yy - np.sqrt(1 + a ** 2) * margin\n",
        "yy_up = yy + np.sqrt(1 + a ** 2) * margin\n",
        "\n",
        "# plot dot\n",
        "ax2.scatter(X_new[:, 0], X_new[:, 1], c=Y_new, zorder=10, cmap='RdYlGn',\n",
        "                edgecolors='k')\n",
        "# plot decision boundary\n",
        "ax2.plot(xx, yy, 'k-', label = 'decision boundary')\n",
        "# plot margin\n",
        "ax2.plot(xx, yy_down, 'k--')\n",
        "ax2.plot(xx, yy_up, 'k--')\n",
        "# plot support vector\n",
        "ax2.scatter(clf2.support_vectors_[:, 0], clf2.support_vectors_[:, 1], s=100,\n",
        "                facecolors='none', zorder=10, edgecolors='k',label = 'support vector')\n",
        "\n",
        "ax2.set_title('C = 0.01, for Linear Not Separable 1')\n",
        "\n",
        "ax2.legend()"
      ],
      "metadata": {
        "id": "FIoB_i9l1cEL"
      },
      "execution_count": null,
      "outputs": []
    },
    {
      "cell_type": "markdown",
      "source": [
        "Demonstrating Different types of SVM Kernals-Linear,Poly,RBF"
      ],
      "metadata": {
        "id": "iFO6OS3u33YS"
      }
    },
    {
      "cell_type": "code",
      "source": [
        "# Demonstrating Linear, Ploy, RBF, kernel\n",
        "# figure number\n",
        "fignum = 1\n",
        "\n",
        "# fit the model\n",
        "for kernel in ('linear', 'poly', 'rbf'):\n",
        "    clf = svm.SVC(kernel=kernel, gamma='auto')\n",
        "    clf.fit(X_new, Y_new)\n",
        "\n",
        "    # plot the line, the points, and the nearest vectors to the plane\n",
        "    plt.figure(fignum, figsize=(4, 3))\n",
        "    plt.clf()\n",
        "\n",
        "    plt.scatter(clf.support_vectors_[:, 0], clf.support_vectors_[:, 1], s=80,\n",
        "                facecolors='none', zorder=10, edgecolors='k')\n",
        "    plt.scatter(X_new[:, 0], X_new[:, 1], c=Y_new, zorder=10, cmap='RdYlGn',\n",
        "                edgecolors='k')\n",
        "\n",
        "    plt.axis('tight')\n",
        "    x_min = -3\n",
        "    x_max = 3\n",
        "    y_min = -3\n",
        "    y_max = 3\n",
        "\n",
        "    XX, YY = np.mgrid[x_min:x_max:200j, y_min:y_max:200j]\n",
        "    Z = clf.decision_function(np.c_[XX.ravel(), YY.ravel()])\n",
        "\n",
        "    # Put the result into a color plot\n",
        "    Z = Z.reshape(XX.shape)\n",
        "    plt.figure(fignum, figsize=(4, 3))\n",
        "#     plt.pcolormesh(XX, YY, Z > 0, cmap='RdYlGn')\n",
        "    plt.contour(XX, YY, Z, colors=['k', 'k', 'k'], linestyles=['--', '-', '--'],\n",
        "                levels=[-.5, 0, .5])\n",
        "\n",
        "    plt.xlim(x_min, x_max)\n",
        "    plt.ylim(y_min, y_max)\n",
        "\n",
        "    plt.xticks(())\n",
        "    plt.yticks(())\n",
        "#     ('f model: T=%i' %t)\n",
        "    plt.title('SVM Decision Boundary after applied %s kernel' %kernel)\n",
        "    fignum = fignum + 1\n",
        "plt.show()"
      ],
      "metadata": {
        "id": "sgmb8mX-1lyd"
      },
      "execution_count": null,
      "outputs": []
    },
    {
      "cell_type": "code",
      "source": [
        "# Illustrate polynominal\n",
        "f, (ax1, ax2) = plt.subplots(1, 2, figsize=(12, 4))\n",
        "\n",
        "X = np.array([-2,-1,0, 1,2])\n",
        "Y = np.array([1,1,0,1,1])\n",
        "ax1.scatter(X, np.zeros_like(X), c=Y)\n",
        "ax1.set_xlabel('existing feature:X')\n",
        "\n",
        "X2 = np.power(np.array([-2,-1,0, 1,2]),2)\n",
        "ax2.scatter(X,X2,c=Y)\n",
        "ax2.set_xlabel('existing feature:X')\n",
        "ax2.set_ylabel('new feature: X_new')\n",
        "plt.show()"
      ],
      "metadata": {
        "id": "4ycVQNPZ1qDa"
      },
      "execution_count": null,
      "outputs": []
    },
    {
      "cell_type": "code",
      "source": [
        "\n",
        "X_C1 = np.array([-2,-1,0, 1,2]) - (-1)\n",
        "X_C1_t = np.exp(np.power(-(0.1*X_C1),2))"
      ],
      "metadata": {
        "id": "pNVL2yVS1xZP"
      },
      "execution_count": null,
      "outputs": []
    },
    {
      "cell_type": "code",
      "source": [
        "X_C1_t"
      ],
      "metadata": {
        "id": "ytJ5EnH41yBK"
      },
      "execution_count": null,
      "outputs": []
    },
    {
      "cell_type": "code",
      "source": [
        "X_C2 = np.array([-2,-1,0, 1,2]) - (1)\n",
        "X_C2_t = np.exp(np.power(-(0.1*X_C2),2))\n",
        "X_C2_t"
      ],
      "metadata": {
        "id": "itNHRNbF17Pa"
      },
      "execution_count": null,
      "outputs": []
    },
    {
      "cell_type": "code",
      "source": [
        "# Illustrate rbf\n",
        "f, (ax1, ax2) = plt.subplots(1, 2, figsize=(12, 4))\n",
        "\n",
        "X = np.array([-2,-1,0, 1,2])\n",
        "Y = np.array([1,1,0,1,1])\n",
        "ax1.scatter(X, np.zeros_like(X), c=Y)\n",
        "ax1.set_xlabel('existing feature:X')\n",
        "\n",
        "\n",
        "ax2.scatter(X_C1_t,X_C2_t,c=Y)\n",
        "ax2.set_xlabel('X_new1, using (-1,0) as center')\n",
        "ax2.set_ylabel('X_new2, using (1, 0) as center')\n",
        "plt.show()"
      ],
      "metadata": {
        "id": "gVhSfpD81-Z4"
      },
      "execution_count": null,
      "outputs": []
    },
    {
      "cell_type": "markdown",
      "source": [
        "Demonstrating Gamma Tuning"
      ],
      "metadata": {
        "id": "5EKX0FYz7V9B"
      }
    },
    {
      "cell_type": "code",
      "source": [
        "# Demonstrating Gamma Tunning\n",
        "# figure number\n",
        "fignum = 1\n",
        "\n",
        "# fit the model\n",
        "for gamma in [1,10,20]:\n",
        "    clf = svm.SVC(kernel='rbf', gamma=gamma)\n",
        "    clf.fit(X_new, Y_new)\n",
        "\n",
        "    # plot the line, the points, and the nearest vectors to the plane\n",
        "    plt.figure(fignum, figsize=(4, 3))\n",
        "    plt.clf()\n",
        "\n",
        "    plt.scatter(clf.support_vectors_[:, 0], clf.support_vectors_[:, 1], s=80,\n",
        "                facecolors='none', zorder=10, edgecolors='k')\n",
        "    plt.scatter(X_new[:, 0], X_new[:, 1], c=Y_new, zorder=10, cmap='RdYlGn',\n",
        "                edgecolors='k')\n",
        "\n",
        "    plt.axis('tight')\n",
        "    x_min = -3\n",
        "    x_max = 3\n",
        "    y_min = -3\n",
        "    y_max = 3\n",
        "\n",
        "    XX, YY = np.mgrid[x_min:x_max:200j, y_min:y_max:200j]\n",
        "    Z = clf.decision_function(np.c_[XX.ravel(), YY.ravel()])\n",
        "\n",
        "    # Put the result into a color plot\n",
        "    Z = Z.reshape(XX.shape)\n",
        "    plt.figure(fignum, figsize=(4, 3))\n",
        "#     plt.pcolormesh(XX, YY, Z > 0, cmap='RdYlGn')\n",
        "    plt.contour(XX, YY, Z, colors=['k', 'k', 'k'], linestyles=['--', '-', '--'],\n",
        "                levels=[-.5, 0, .5])\n",
        "\n",
        "    plt.xlim(x_min, x_max)\n",
        "    plt.ylim(y_min, y_max)\n",
        "\n",
        "    plt.xticks(())\n",
        "    plt.yticks(())\n",
        "    plt.title(['Gamma = ', gamma])\n",
        "    fignum = fignum + 1\n",
        "plt.show()"
      ],
      "metadata": {
        "id": "5LMFcgtK2Dwc"
      },
      "execution_count": null,
      "outputs": []
    }
  ]
}