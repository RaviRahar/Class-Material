{
  "nbformat": 4,
  "nbformat_minor": 0,
  "metadata": {
    "kernelspec": {
      "display_name": "Python 3",
      "language": "python",
      "name": "python3"
    },
    "language_info": {
      "codemirror_mode": {
        "name": "ipython",
        "version": 3
      },
      "file_extension": ".py",
      "mimetype": "text/x-python",
      "name": "python",
      "nbconvert_exporter": "python",
      "pygments_lexer": "ipython3",
      "version": "3.6.5"
    },
    "latex_envs": {
      "LaTeX_envs_menu_present": true,
      "autoclose": false,
      "autocomplete": true,
      "bibliofile": "biblio.bib",
      "cite_by": "apalike",
      "current_citInitial": 1,
      "eqLabelWithNumbers": true,
      "eqNumInitial": 1,
      "hotkeys": {
        "equation": "Ctrl-E",
        "itemize": "Ctrl-I"
      },
      "labels_anchors": false,
      "latex_user_defs": false,
      "report_style_numbering": false,
      "user_envs_cfg": false
    },
    "toc": {
      "base_numbering": 1,
      "nav_menu": {},
      "number_sections": false,
      "sideBar": true,
      "skip_h1_title": false,
      "title_cell": "Table of Contents",
      "title_sidebar": "Contents",
      "toc_cell": false,
      "toc_position": {},
      "toc_section_display": true,
      "toc_window_display": false
    },
    "colab": {
      "name": "FloydHub K-Means Blog.ipynb",
      "provenance": [],
      "collapsed_sections": [],
      "toc_visible": true
    }
  },
  "cells": [
    {
      "cell_type": "markdown",
      "metadata": {
        "id": "me-XaWeKgQug"
      },
      "source": [
        "## Generate data and convert it to a pandas DataFrame"
      ]
    },
    {
      "cell_type": "code",
      "metadata": {
        "id": "ilN_L5JXgQul"
      },
      "source": [
        "# Imports\n",
        "from sklearn.datasets.samples_generator import make_blobs\n",
        "\n",
        "X, _ = make_blobs(n_samples=10, centers=3, n_features=2,\n",
        "                 cluster_std=0.2,  random_state=0)"
      ],
      "execution_count": 5,
      "outputs": []
    },
    {
      "cell_type": "code",
      "metadata": {
        "colab": {
          "base_uri": "https://localhost:8080/",
          "height": 204
        },
        "id": "EFzykJXFgQun",
        "outputId": "3719a331-04a3-491f-a2ab-3f2f23358538"
      },
      "source": [
        "# Convert the data points into a pandas DataFrame\n",
        "import pandas as pd\n",
        "\n",
        "# Generate indicators for the data points\n",
        "obj_names = []\n",
        "for i in range(1, 11):\n",
        "    obj = \"Object \" + str(i)\n",
        "    obj_names.append(obj)\n",
        "\n",
        "# Create a pandas DataFrame with the names and (x, y) coordinates\n",
        "data = pd.DataFrame({\n",
        "    'Object': obj_names,\n",
        "    'X_value': X[:, 0],\n",
        "    'Y_value': X[:, -1]\n",
        "})\n",
        "\n",
        "# Preview the data\n",
        "data.head()"
      ],
      "execution_count": 6,
      "outputs": [
        {
          "output_type": "execute_result",
          "data": {
            "text/html": [
              "<div>\n",
              "<style scoped>\n",
              "    .dataframe tbody tr th:only-of-type {\n",
              "        vertical-align: middle;\n",
              "    }\n",
              "\n",
              "    .dataframe tbody tr th {\n",
              "        vertical-align: top;\n",
              "    }\n",
              "\n",
              "    .dataframe thead th {\n",
              "        text-align: right;\n",
              "    }\n",
              "</style>\n",
              "<table border=\"1\" class=\"dataframe\">\n",
              "  <thead>\n",
              "    <tr style=\"text-align: right;\">\n",
              "      <th></th>\n",
              "      <th>Object</th>\n",
              "      <th>X_value</th>\n",
              "      <th>Y_value</th>\n",
              "    </tr>\n",
              "  </thead>\n",
              "  <tbody>\n",
              "    <tr>\n",
              "      <th>0</th>\n",
              "      <td>Object 1</td>\n",
              "      <td>1.005079</td>\n",
              "      <td>4.594642</td>\n",
              "    </tr>\n",
              "    <tr>\n",
              "      <th>1</th>\n",
              "      <td>Object 2</td>\n",
              "      <td>1.128478</td>\n",
              "      <td>4.328122</td>\n",
              "    </tr>\n",
              "    <tr>\n",
              "      <th>2</th>\n",
              "      <td>Object 3</td>\n",
              "      <td>2.117881</td>\n",
              "      <td>0.726845</td>\n",
              "    </tr>\n",
              "    <tr>\n",
              "      <th>3</th>\n",
              "      <td>Object 4</td>\n",
              "      <td>0.955626</td>\n",
              "      <td>4.385907</td>\n",
              "    </tr>\n",
              "    <tr>\n",
              "      <th>4</th>\n",
              "      <td>Object 5</td>\n",
              "      <td>-1.354017</td>\n",
              "      <td>2.769449</td>\n",
              "    </tr>\n",
              "  </tbody>\n",
              "</table>\n",
              "</div>"
            ],
            "text/plain": [
              "     Object   X_value   Y_value\n",
              "0  Object 1  1.005079  4.594642\n",
              "1  Object 2  1.128478  4.328122\n",
              "2  Object 3  2.117881  0.726845\n",
              "3  Object 4  0.955626  4.385907\n",
              "4  Object 5 -1.354017  2.769449"
            ]
          },
          "metadata": {},
          "execution_count": 6
        }
      ]
    },
    {
      "cell_type": "code",
      "metadata": {
        "id": "E7XGpykLgQuq"
      },
      "source": [
        "# Serialize the DataFrame to a .csv file\n",
        "data.to_csv('data.csv', index=False)"
      ],
      "execution_count": 7,
      "outputs": []
    },
    {
      "cell_type": "markdown",
      "metadata": {
        "id": "Kk8sItkSgQuq"
      },
      "source": [
        "## Basic Data Visualization"
      ]
    },
    {
      "cell_type": "code",
      "metadata": {
        "colab": {
          "base_uri": "https://localhost:8080/",
          "height": 279
        },
        "id": "Q1e5w7Q6gQur",
        "outputId": "8002cf7d-be12-4d32-8af2-8ae3cca41730"
      },
      "source": [
        "# Scatter plot of the data points\n",
        "import matplotlib.pyplot as plt\n",
        "%matplotlib inline\n",
        "\n",
        "plt.scatter(X[:, 0], X[:, -1])\n",
        "plt.xlabel('X Coordinates')\n",
        "plt.ylabel('Y Coordinates')\n",
        "plt.show()"
      ],
      "execution_count": 8,
      "outputs": [
        {
          "output_type": "display_data",
          "data": {
            "image/png": "[encoded data removed]",
            "text/plain": [
              "<Figure size 432x288 with 1 Axes>"
            ]
          },
          "metadata": {
            "needs_background": "light"
          }
        }
      ]
    },
    {
      "cell_type": "markdown",
      "metadata": {
        "id": "fqEZuCr9gQus"
      },
      "source": [
        "## Beginning K-Means clustering"
      ]
    },
    {
      "cell_type": "markdown",
      "metadata": {
        "id": "fSZrmUlUqWMH"
      },
      "source": [
        "Step1: Initializing Centroids C1,C2,C3 i.e. K=3"
      ]
    },
    {
      "cell_type": "code",
      "metadata": {
        "id": "hU0cKUrtgQut"
      },
      "source": [
        "# Initialize the centroids\n",
        "c1 = (-1, 4)\n",
        "c2 = (-0.2, 1.5)\n",
        "c3 = (2, 2.5)"
      ],
      "execution_count": 9,
      "outputs": []
    },
    {
      "cell_type": "markdown",
      "metadata": {
        "id": "eZ29h4qwqc-q"
      },
      "source": [
        "Function to calculate Euclidean Distance between data points and centroids"
      ]
    },
    {
      "cell_type": "code",
      "metadata": {
        "id": "ogLJ1nSTgQuu"
      },
      "source": [
        "# A helper function to calculate the Euclidean diatance between the data points and the centroids\n",
        "import numpy as np\n",
        "\n",
        "def calculate_distance(centroid, X, Y):\n",
        "    distances = []\n",
        "    \n",
        "    # Unpack the x and y coordinates of the centroid\n",
        "    c_x, c_y = centroid\n",
        "    \n",
        "    # Iterate over the data points and calculate the distance using the given formula\n",
        "    for x, y in list(zip(X, Y)):\n",
        "        root_diff_x = (x - c_x) ** 2\n",
        "        root_diff_y = (y - c_y) ** 2\n",
        "        distance = np.sqrt(root_diff_x + root_diff_y)\n",
        "        distances.append(distance)\n",
        "    \n",
        "    return distances"
      ],
      "execution_count": 10,
      "outputs": []
    },
    {
      "cell_type": "markdown",
      "metadata": {
        "id": "IXXl4pXoqsN0"
      },
      "source": [
        "Step 2: Calculate distance between the data points and each centroid"
      ]
    },
    {
      "cell_type": "code",
      "metadata": {
        "colab": {
          "base_uri": "https://localhost:8080/",
          "height": 204
        },
        "id": "Xv4S_xP-gQuv",
        "outputId": "2ca846fe-a1d1-4e84-92d4-88157dc18908"
      },
      "source": [
        "# Calculate the distance and assign them to the DataFrame accordingly\n",
        "data['C1_Distance'] = calculate_distance(c1, data.X_value, data.Y_value)\n",
        "data['C2_Distance'] = calculate_distance(c2, data.X_value, data.Y_value)\n",
        "data['C3_Distance'] = calculate_distance(c3, data.X_value, data.Y_value)\n",
        "\n",
        "# Preview the data\n",
        "data.head()"
      ],
      "execution_count": 11,
      "outputs": [
        {
          "output_type": "execute_result",
          "data": {
            "text/html": [
              "<div>\n",
              "<style scoped>\n",
              "    .dataframe tbody tr th:only-of-type {\n",
              "        vertical-align: middle;\n",
              "    }\n",
              "\n",
              "    .dataframe tbody tr th {\n",
              "        vertical-align: top;\n",
              "    }\n",
              "\n",
              "    .dataframe thead th {\n",
              "        text-align: right;\n",
              "    }\n",
              "</style>\n",
              "<table border=\"1\" class=\"dataframe\">\n",
              "  <thead>\n",
              "    <tr style=\"text-align: right;\">\n",
              "      <th></th>\n",
              "      <th>Object</th>\n",
              "      <th>X_value</th>\n",
              "      <th>Y_value</th>\n",
              "      <th>C1_Distance</th>\n",
              "      <th>C2_Distance</th>\n",
              "      <th>C3_Distance</th>\n",
              "    </tr>\n",
              "  </thead>\n",
              "  <tbody>\n",
              "    <tr>\n",
              "      <th>0</th>\n",
              "      <td>Object 1</td>\n",
              "      <td>1.005079</td>\n",
              "      <td>4.594642</td>\n",
              "      <td>2.091397</td>\n",
              "      <td>3.320997</td>\n",
              "      <td>2.318921</td>\n",
              "    </tr>\n",
              "    <tr>\n",
              "      <th>1</th>\n",
              "      <td>Object 2</td>\n",
              "      <td>1.128478</td>\n",
              "      <td>4.328122</td>\n",
              "      <td>2.153620</td>\n",
              "      <td>3.124601</td>\n",
              "      <td>2.025236</td>\n",
              "    </tr>\n",
              "    <tr>\n",
              "      <th>2</th>\n",
              "      <td>Object 3</td>\n",
              "      <td>2.117881</td>\n",
              "      <td>0.726845</td>\n",
              "      <td>4.520479</td>\n",
              "      <td>2.443428</td>\n",
              "      <td>1.777070</td>\n",
              "    </tr>\n",
              "    <tr>\n",
              "      <th>3</th>\n",
              "      <td>Object 4</td>\n",
              "      <td>0.955626</td>\n",
              "      <td>4.385907</td>\n",
              "      <td>1.993339</td>\n",
              "      <td>3.108686</td>\n",
              "      <td>2.155774</td>\n",
              "    </tr>\n",
              "    <tr>\n",
              "      <th>4</th>\n",
              "      <td>Object 5</td>\n",
              "      <td>-1.354017</td>\n",
              "      <td>2.769449</td>\n",
              "      <td>1.280462</td>\n",
              "      <td>1.715592</td>\n",
              "      <td>3.364823</td>\n",
              "    </tr>\n",
              "  </tbody>\n",
              "</table>\n",
              "</div>"
            ],
            "text/plain": [
              "     Object   X_value   Y_value  C1_Distance  C2_Distance  C3_Distance\n",
              "0  Object 1  1.005079  4.594642     2.091397     3.320997     2.318921\n",
              "1  Object 2  1.128478  4.328122     2.153620     3.124601     2.025236\n",
              "2  Object 3  2.117881  0.726845     4.520479     2.443428     1.777070\n",
              "3  Object 4  0.955626  4.385907     1.993339     3.108686     2.155774\n",
              "4  Object 5 -1.354017  2.769449     1.280462     1.715592     3.364823"
            ]
          },
          "metadata": {},
          "execution_count": 11
        }
      ]
    },
    {
      "cell_type": "markdown",
      "metadata": {
        "id": "ydr1SdPpwvro"
      },
      "source": [
        "Get the centroid with the minimum distance and assign it to the datapoint"
      ]
    },
    {
      "cell_type": "code",
      "metadata": {
        "colab": {
          "base_uri": "https://localhost:8080/",
          "height": 204
        },
        "id": "XLFl76EQgQuw",
        "outputId": "6d0bf479-642a-4c9d-c840-ff532abc0c04"
      },
      "source": [
        "# Get the minimum distance centroids\n",
        "data['Cluster'] = data[['C1_Distance', 'C2_Distance', 'C3_Distance']].apply(np.argmin, axis =1)\n",
        "#print(data['Cluster'])\n",
        "\n",
        "# Map the centroids accordingly and rename them\n",
        "data['Cluster'] = data['Cluster'].map({0: 'C1', 1: 'C2', 2: 'C3'})\n",
        "#print(data['Cluster'])\n",
        "\n",
        "# Get a preview of the data\n",
        "data.head(5)"
      ],
      "execution_count": 28,
      "outputs": [
        {
          "output_type": "execute_result",
          "data": {
            "text/html": [
              "<div>\n",
              "<style scoped>\n",
              "    .dataframe tbody tr th:only-of-type {\n",
              "        vertical-align: middle;\n",
              "    }\n",
              "\n",
              "    .dataframe tbody tr th {\n",
              "        vertical-align: top;\n",
              "    }\n",
              "\n",
              "    .dataframe thead th {\n",
              "        text-align: right;\n",
              "    }\n",
              "</style>\n",
              "<table border=\"1\" class=\"dataframe\">\n",
              "  <thead>\n",
              "    <tr style=\"text-align: right;\">\n",
              "      <th></th>\n",
              "      <th>Object</th>\n",
              "      <th>X_value</th>\n",
              "      <th>Y_value</th>\n",
              "      <th>C1_Distance</th>\n",
              "      <th>C2_Distance</th>\n",
              "      <th>C3_Distance</th>\n",
              "      <th>Cluster</th>\n",
              "    </tr>\n",
              "  </thead>\n",
              "  <tbody>\n",
              "    <tr>\n",
              "      <th>0</th>\n",
              "      <td>Object 1</td>\n",
              "      <td>1.005079</td>\n",
              "      <td>4.594642</td>\n",
              "      <td>2.091397</td>\n",
              "      <td>3.320997</td>\n",
              "      <td>2.318921</td>\n",
              "      <td>C1</td>\n",
              "    </tr>\n",
              "    <tr>\n",
              "      <th>1</th>\n",
              "      <td>Object 2</td>\n",
              "      <td>1.128478</td>\n",
              "      <td>4.328122</td>\n",
              "      <td>2.153620</td>\n",
              "      <td>3.124601</td>\n",
              "      <td>2.025236</td>\n",
              "      <td>C3</td>\n",
              "    </tr>\n",
              "    <tr>\n",
              "      <th>2</th>\n",
              "      <td>Object 3</td>\n",
              "      <td>2.117881</td>\n",
              "      <td>0.726845</td>\n",
              "      <td>4.520479</td>\n",
              "      <td>2.443428</td>\n",
              "      <td>1.777070</td>\n",
              "      <td>C3</td>\n",
              "    </tr>\n",
              "    <tr>\n",
              "      <th>3</th>\n",
              "      <td>Object 4</td>\n",
              "      <td>0.955626</td>\n",
              "      <td>4.385907</td>\n",
              "      <td>1.993339</td>\n",
              "      <td>3.108686</td>\n",
              "      <td>2.155774</td>\n",
              "      <td>C1</td>\n",
              "    </tr>\n",
              "    <tr>\n",
              "      <th>4</th>\n",
              "      <td>Object 5</td>\n",
              "      <td>-1.354017</td>\n",
              "      <td>2.769449</td>\n",
              "      <td>1.280462</td>\n",
              "      <td>1.715592</td>\n",
              "      <td>3.364823</td>\n",
              "      <td>C1</td>\n",
              "    </tr>\n",
              "  </tbody>\n",
              "</table>\n",
              "</div>"
            ],
            "text/plain": [
              "     Object   X_value   Y_value  C1_Distance  C2_Distance  C3_Distance Cluster\n",
              "0  Object 1  1.005079  4.594642     2.091397     3.320997     2.318921      C1\n",
              "1  Object 2  1.128478  4.328122     2.153620     3.124601     2.025236      C3\n",
              "2  Object 3  2.117881  0.726845     4.520479     2.443428     1.777070      C3\n",
              "3  Object 4  0.955626  4.385907     1.993339     3.108686     2.155774      C1\n",
              "4  Object 5 -1.354017  2.769449     1.280462     1.715592     3.364823      C1"
            ]
          },
          "metadata": {},
          "execution_count": 28
        }
      ]
    },
    {
      "cell_type": "markdown",
      "metadata": {
        "id": "mTZkp9aRw50l"
      },
      "source": [
        "Calculate the number of data points in each cluster.\n",
        "C1 cluster has 5 points and C3 has 5. C2 cluster has no points. So the datapoints are classified into 2 clusters after first iteration."
      ]
    },
    {
      "cell_type": "code",
      "metadata": {
        "colab": {
          "base_uri": "https://localhost:8080/"
        },
        "id": "a3GVv16KgQux",
        "outputId": "41cb7eb2-54bd-471b-d8e0-baf152f31653"
      },
      "source": [
        "# Get the number of data points in the clusters\n",
        "from collections import Counter\n",
        "\n",
        "label_counts = Counter(data['Cluster'].values)\n",
        "label_counts.most_common()"
      ],
      "execution_count": 29,
      "outputs": [
        {
          "output_type": "execute_result",
          "data": {
            "text/plain": [
              "[('C1', 5), ('C3', 5)]"
            ]
          },
          "metadata": {},
          "execution_count": 29
        }
      ]
    },
    {
      "cell_type": "markdown",
      "metadata": {
        "id": "F2TQP1pHxG9Z"
      },
      "source": [
        "Step 3: Now we calculate the new centroid of each of the new clusters."
      ]
    },
    {
      "cell_type": "code",
      "metadata": {
        "colab": {
          "base_uri": "https://localhost:8080/"
        },
        "id": "-mZQN1LGgQux",
        "outputId": "c7a06ebe-554a-4a48-bd70-72136abdea05"
      },
      "source": [
        "# Calculate the coordinates of the new centroid from cluster 1\n",
        "x_new_centroid1 = data[data['Cluster']=='C1']['X_value'].mean()\n",
        "y_new_centroid1 = data[data['Cluster']=='C1']['Y_value'].mean()\n",
        "\n",
        "# Calculate the coordinates of the new centroid from cluster 2\n",
        "x_new_centroid2 = data[data['Cluster']=='C3']['X_value'].mean()\n",
        "y_new_centroid2 = data[data['Cluster']=='C3']['Y_value'].mean()\n",
        "\n",
        "# Print the coordinates of the new centroids\n",
        "print('Centroid 1 ({}, {})'.format(x_new_centroid1, y_new_centroid1))\n",
        "print('Centroid 2 ({}, {})'.format(x_new_centroid2, y_new_centroid2))"
      ],
      "execution_count": 30,
      "outputs": [
        {
          "output_type": "stream",
          "name": "stdout",
          "text": [
            "Centroid 1 (-0.500753347459331, 3.4851226841526897)\n",
            "Centroid 2 (1.7821539902873855, 2.2299026522421928)\n"
          ]
        }
      ]
    },
    {
      "cell_type": "markdown",
      "metadata": {
        "id": "Vq1yJiNOxeXX"
      },
      "source": [
        "Step4: We continue Steps 1-3 untill the centroids stablize."
      ]
    },
    {
      "cell_type": "markdown",
      "metadata": {
        "id": "7bTvkDI0gQuy"
      },
      "source": [
        "## Using scikit-learn to perform K-Means clustering"
      ]
    },
    {
      "cell_type": "code",
      "metadata": {
        "id": "PqcnrhkXgQuz"
      },
      "source": [
        "# Using scikit-learn to perform K-Means clustering\n",
        "from sklearn.cluster import KMeans\n",
        "\n",
        "# Specify the number of clusters (3) and fit the data X\n",
        "kmeans = KMeans(n_clusters=3, random_state=0).fit(X)"
      ],
      "execution_count": 31,
      "outputs": []
    },
    {
      "cell_type": "markdown",
      "metadata": {
        "id": "ChayebwzgQuz"
      },
      "source": [
        "## Visualize and evaluate the results"
      ]
    },
    {
      "cell_type": "code",
      "metadata": {
        "colab": {
          "base_uri": "https://localhost:8080/"
        },
        "id": "bABspSx2gQu0",
        "outputId": "7e6d9d91-5f2a-450a-a9e5-bc7587ea0c38"
      },
      "source": [
        "# Get the cluster centroids\n",
        "kmeans.cluster_centers_"
      ],
      "execution_count": 32,
      "outputs": [
        {
          "output_type": "execute_result",
          "data": {
            "text/plain": [
              "array([[ 1.06386762,  4.39554682],\n",
              "       [ 2.20533486,  0.84929168],\n",
              "       [-1.48815728,  2.81502145]])"
            ]
          },
          "metadata": {},
          "execution_count": 32
        }
      ]
    },
    {
      "cell_type": "code",
      "metadata": {
        "colab": {
          "base_uri": "https://localhost:8080/"
        },
        "id": "n6LHuu8rgQu0",
        "outputId": "2ae0de59-50f9-4433-dcfc-aac8a486df92"
      },
      "source": [
        "# Get the cluster labels\n",
        "kmeans.labels_"
      ],
      "execution_count": 33,
      "outputs": [
        {
          "output_type": "execute_result",
          "data": {
            "text/plain": [
              "array([0, 0, 1, 0, 2, 2, 2, 1, 1, 0], dtype=int32)"
            ]
          },
          "metadata": {},
          "execution_count": 33
        }
      ]
    },
    {
      "cell_type": "code",
      "metadata": {
        "colab": {
          "base_uri": "https://localhost:8080/",
          "height": 281
        },
        "id": "MUmFeSImgQu1",
        "outputId": "fb05f1e1-b5b8-4ade-fb76-86fda250d855"
      },
      "source": [
        "# Plotting the cluster centers and the data points on a 2D plane\n",
        "plt.scatter(X[:, 0], X[:, -1])\n",
        "plt.scatter(kmeans.cluster_centers_[:, 0], kmeans.cluster_centers_[:, 1], c='red', marker='x')\n",
        "plt.title('Data points and cluster centroids')\n",
        "plt.show()"
      ],
      "execution_count": 34,
      "outputs": [
        {
          "output_type": "display_data",
          "data": {
            "image/png": "[encoded data removed]",
            "text/plain": [
              "<Figure size 432x288 with 1 Axes>"
            ]
          },
          "metadata": {
            "needs_background": "light"
          }
        }
      ]
    },
    {
      "cell_type": "code",
      "metadata": {
        "colab": {
          "base_uri": "https://localhost:8080/"
        },
        "id": "P_fxwcBEgQu1",
        "outputId": "cdc0c6cd-f507-4396-dbc4-35cd40582080"
      },
      "source": [
        "# Calculate silhouette_score\n",
        "from sklearn.metrics import silhouette_score\n",
        "\n",
        "print(silhouette_score(X, kmeans.labels_))"
      ],
      "execution_count": 35,
      "outputs": [
        {
          "output_type": "stream",
          "name": "stdout",
          "text": [
            "0.8810668519873337\n"
          ]
        }
      ]
    },
    {
      "cell_type": "markdown",
      "metadata": {
        "id": "U96HxOWBgQu2"
      },
      "source": [
        "## Determining the value of K using silhouette_score"
      ]
    },
    {
      "cell_type": "code",
      "metadata": {
        "colab": {
          "base_uri": "https://localhost:8080/",
          "height": 432
        },
        "id": "g-vqmG7UgQu2",
        "outputId": "85b66c84-a701-4ec9-f1be-c7f657f4294e"
      },
      "source": [
        "# Import the KElbowVisualizer method \n",
        "from yellowbrick.cluster import KElbowVisualizer\n",
        "\n",
        "# Instantiate a scikit-learn K-Means model\n",
        "model = KMeans(random_state=0)\n",
        "\n",
        "# Instantiate the KElbowVisualizer with the number of clusters and the metric \n",
        "visualizer = KElbowVisualizer(model, k=(2,6), metric='silhouette', timings=False)\n",
        "\n",
        "# Fit the data and visualize\n",
        "visualizer.fit(X)    \n",
        "visualizer.poof()    "
      ],
      "execution_count": 36,
      "outputs": [
        {
          "output_type": "stream",
          "name": "stderr",
          "text": [
            "/usr/local/lib/python3.7/dist-packages/sklearn/utils/deprecation.py:144: FutureWarning: The sklearn.metrics.classification module is  deprecated in version 0.22 and will be removed in version 0.24. The corresponding classes / functions should instead be imported from sklearn.metrics. Anything that cannot be imported from sklearn.metrics is now part of the private API.\n",
            "  warnings.warn(message, FutureWarning)\n"
          ]
        },
        {
          "output_type": "display_data",
          "data": {
            "image/png": "[encoded data removed]",
            "text/plain": [
              "<Figure size 576x396 with 1 Axes>"
            ]
          },
          "metadata": {}
        }
      ]
    }
  ]
}